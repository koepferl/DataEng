{
 "cells": [
  {
   "cell_type": "markdown",
   "metadata": {},
   "source": [
    "# Problem Set on 2D convolution"
   ]
  },
  {
   "cell_type": "code",
   "execution_count": null,
   "metadata": {},
   "outputs": [],
   "source": [
    "%matplotlib inline\n",
    "import matplotlib as mpl\n",
    "import matplotlib.pyplot as plt\n",
    "import numpy as np\n",
    "\n",
    "# to make this notebook's output stable across runs\n",
    "np.random.seed(42)\n",
    "\n",
    "# hint: if you display with imshow set plt.imshow(..., interpolation='None') \n",
    "# otherwise the plotting routine also smoothes."
   ]
  },
  {
   "cell_type": "markdown",
   "metadata": {},
   "source": [
    "### Problem 1:  Normalization\n",
    "Fill in the missing elements of Matrix $A$ from the lecture. "
   ]
  },
  {
   "cell_type": "code",
   "execution_count": null,
   "metadata": {},
   "outputs": [],
   "source": [
    "import numpy as np\n",
    "\n",
    "K = np.array([[1, 2, 1],\n",
    "              [2, 4, 2],\n",
    "              [1, 2, 1]])\n",
    "\n",
    "B = np.array([[1, 0, 2, 3],\n",
    "              [4, 5, 0, 6],\n",
    "              [7, 0, 8, 9]])"
   ]
  },
  {
   "cell_type": "markdown",
   "metadata": {},
   "source": [
    "#### 1a) by hand\n",
    "\n",
    "First, calculate $A$ without any computers to understand the concept."
   ]
  },
  {
   "cell_type": "code",
   "execution_count": null,
   "metadata": {},
   "outputs": [],
   "source": [
    "# put your markdown here\n",
    "\n"
   ]
  },
  {
   "cell_type": "markdown",
   "metadata": {},
   "source": [
    "My solution is ...\n",
    "\n",
    "$$A = \\begin{bmatrix}\n",
    "%& & & \\\\\n",
    "%& & & \\\\\n",
    "%& & & \\\\\n",
    "\\end{bmatrix}\n",
    "$$ \n"
   ]
  },
  {
   "cell_type": "markdown",
   "metadata": {},
   "source": [
    "#### 1b) your function\n",
    "\n",
    "Once you grasped the concept. Write a small ``function``, which takes input image $B$ and kernel $K$ and returns $A$. Compare your result with task 1a."
   ]
  },
  {
   "cell_type": "code",
   "execution_count": null,
   "metadata": {},
   "outputs": [],
   "source": [
    "# put your function here\n",
    "\n",
    "\n"
   ]
  },
  {
   "cell_type": "markdown",
   "metadata": {},
   "source": [
    "#### 1c) validation\n",
    "\n",
    "Use ``scipy.signal.fftconvolve`` (https://docs.scipy.org/doc/scipy/reference/generated/scipy.signal.fftconvolve.html) to test the results from 1a and 1b. "
   ]
  },
  {
   "cell_type": "code",
   "execution_count": null,
   "metadata": {},
   "outputs": [],
   "source": [
    "# put your code here\n",
    "\n",
    "\n"
   ]
  },
  {
   "cell_type": "markdown",
   "metadata": {},
   "source": [
    "#### 1d) important remarks\n",
    "\n",
    "If everything worked, by now you should understand the concept behind the convolution algorithm. From now on you can use, ``signal.fftconvolve``. Next, we have a look at your input and output. \n",
    "\n",
    "Start with a new random matrix $B$ (100 x 100). \n",
    "\n",
    "* What is the sum of your input image B?\n",
    "* What is the sum of your output image A?\n",
    "* What happened? How can you overcome this difference in input and output sum?\n",
    "\n",
    "Hint: Try normalizing the sum of the Kernel to 1. Discuss what happens. What do you expect?\n"
   ]
  },
  {
   "cell_type": "code",
   "execution_count": null,
   "metadata": {},
   "outputs": [],
   "source": [
    "# put your code here\n",
    "\n",
    "\n",
    "\n"
   ]
  },
  {
   "cell_type": "markdown",
   "metadata": {},
   "source": [
    "## Problem 2: Leaking Image\n",
    "\n",
    "In Problem 1, you experimented what happens when you normalize a kernel. But somehow the total values of the image did change. Try to pad your image, by embedding it in a 120x120 array of zeros. What happens?"
   ]
  },
  {
   "cell_type": "code",
   "execution_count": null,
   "metadata": {},
   "outputs": [],
   "source": [
    "# put your code here\n",
    "\n",
    "\n"
   ]
  },
  {
   "cell_type": "markdown",
   "metadata": {},
   "source": [
    "### Problem 3: Gaussian Kernel\n",
    "\n",
    "It is time to look at more realistic kernels of optical devices. In the lecture you heard, that for circular openings, the kernel can be approximated by a Gaussian profile. \n",
    "\n",
    "$$K\\sim \\exp(-(x^2 + y^2)/2\\sigma^2)$$\n",
    "\n",
    "Create a Gaussian kernel 101x101 pixels and use it to convolve. For now, set ``sigma=10.``."
   ]
  },
  {
   "cell_type": "markdown",
   "metadata": {},
   "source": [
    "For this task let's use a more realistic image. Load the ``face`` image provided by ``scipy``."
   ]
  },
  {
   "cell_type": "code",
   "execution_count": null,
   "metadata": {},
   "outputs": [],
   "source": [
    "from scipy import misc\n",
    "face = misc.face(gray=True)"
   ]
  },
  {
   "cell_type": "code",
   "execution_count": null,
   "metadata": {},
   "outputs": [],
   "source": [
    "plt.imshow(face, cmap='gray', interpolation='None')"
   ]
  },
  {
   "cell_type": "code",
   "execution_count": null,
   "metadata": {},
   "outputs": [],
   "source": [
    "# put your code here\n",
    "\n",
    "\n"
   ]
  },
  {
   "cell_type": "markdown",
   "metadata": {},
   "source": [
    "### Problem 4: Outlook to the Project Phase\n",
    "\n",
    "Above you used $\\sigma=10$. However, $\\sigma$ depends on properties of the image and the optical device it was observed with. E. g. for a circular opening one can approximate:\n",
    "\n",
    "$$K\\sim \\exp(-(x^2 + y^2)/2\\sigma^2)~~~\\mbox{with}~~~\\sigma \\approx 0.45 \\frac{\\lambda}{D\\theta}$$\n",
    "\n",
    "* $\\theta$ as pixel resolution in radians\n",
    "* $D$ as diameter of the device\n",
    "* $\\lambda$ as the wavelength of the light."
   ]
  },
  {
   "cell_type": "markdown",
   "metadata": {},
   "source": [
    "In the project phase one team will also deal with the measured kernels from optical devices, e. g. telescopes. "
   ]
  },
  {
   "cell_type": "markdown",
   "metadata": {},
   "source": [
    "Below I display a kernel of the Herschel Space Telescope (PACS 1 band)."
   ]
  },
  {
   "cell_type": "markdown",
   "metadata": {},
   "source": [
    "<table><tr><td><img src=\"https://www2.mpia-hd.mpg.de/IRSPACE/herschel/herschel2_large.jpg\"></td><td><img src=\"PACS_kernel.png\"></td></tr></table>"
   ]
  },
  {
   "cell_type": "markdown",
   "metadata": {},
   "source": [
    "Comment on the profile shape and also on the diffraction pattern (kernel). Have also a look at the telescope picture. Do you have an idea where the spikes come from?"
   ]
  },
  {
   "cell_type": "code",
   "execution_count": null,
   "metadata": {},
   "outputs": [],
   "source": [
    "# put your markdown here\n",
    "\n"
   ]
  },
  {
   "cell_type": "markdown",
   "metadata": {},
   "source": [
    "### Appendix | how to create the profiles above"
   ]
  },
  {
   "cell_type": "raw",
   "metadata": {},
   "source": [
    "def radial_profile(data):\n",
    "    y, x = np.indices((data.shape))\n",
    "    \n",
    "    center = np.unravel_index(np.argmax(data, axis=None), data.shape)\n",
    "    \n",
    "    r = np.sqrt((x - center[0])**2 + (y - center[1])**2)\n",
    "    r = r.astype(np.int)\n",
    "    \n",
    "    tbin = np.bincount(r.ravel(), data.ravel())\n",
    "    nr = np.bincount(r.ravel())\n",
    "    radialprofile = tbin / nr\n",
    "    return radialprofile "
   ]
  },
  {
   "cell_type": "raw",
   "metadata": {},
   "source": [
    "from astropy.io import fits\n",
    "\n",
    "hd = fits.open('../../FluxCompensator-0.1.0/fluxcompensator/database/missions/PSF/PSF_blue_slope-1_small.fits')\n",
    "\n",
    "kernel_PACS1 = hd[0].data\n",
    "\n",
    "fig = plt.figure(figsize=(13,5))\n",
    "\n",
    "ax = fig.add_subplot(141)\n",
    "plt.title('PACS1 kernel linear')\n",
    "plt.imshow(kernel_PACS1, origin='lower', cmap='binary_r')\n",
    "plt.colorbar(orientation='horizontal')\n",
    "\n",
    "ax = fig.add_subplot(142)\n",
    "plt.title('PACS1 kernel logscale')\n",
    "plt.imshow(kernel_PACS1, origin='lower', cmap='binary_r', \n",
    "           norm=colors.LogNorm(vmin=kernel_PACS1.min(), vmax=kernel_PACS1.max()))\n",
    "plt.colorbar(orientation='horizontal')\n",
    "\n",
    "ax = fig.add_subplot(122)\n",
    "ax.plot(radial_profile(kernel_PACS1), 'k-', label='kernel intensity')\n",
    "ax.set_xlim(0, 50)\n",
    "ax.set_xlabel('radius')\n",
    "plt.legend()\n",
    "fig.savefig('PACS_kernel.png', dpi=200)"
   ]
  },
  {
   "cell_type": "raw",
   "metadata": {},
   "source": [
    "from IPython.display import Image\n",
    "from IPython.core.display import HTML \n",
    "Image(url=\"PACS_kernel.png\", width=900, height=500)"
   ]
  },
  {
   "cell_type": "code",
   "execution_count": null,
   "metadata": {},
   "outputs": [],
   "source": []
  }
 ],
 "metadata": {
  "kernelspec": {
   "display_name": "Python 3",
   "language": "python",
   "name": "python3"
  },
  "language_info": {
   "codemirror_mode": {
    "name": "ipython",
    "version": 3
   },
   "file_extension": ".py",
   "mimetype": "text/x-python",
   "name": "python",
   "nbconvert_exporter": "python",
   "pygments_lexer": "ipython3",
   "version": "3.8.3"
  }
 },
 "nbformat": 4,
 "nbformat_minor": 4
}
