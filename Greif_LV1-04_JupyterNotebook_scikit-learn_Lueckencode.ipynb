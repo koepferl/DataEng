{
 "cells": [
  {
   "cell_type": "markdown",
   "metadata": {},
   "source": [
    "# Feature Extraction - eine Methode der \"Dimensionality Reduction\""
   ]
  },
  {
   "cell_type": "markdown",
   "metadata": {},
   "source": [
    "Nur Überschriften und Erklärungen im Notebook sind auf Deutsch, ``#comments`` und ``code`` sind auf Englisch. Dieses Mindestmaß an Englisch hat sich als gute Praxis erwiesen. Es ist ratsam sich das Coding in Englisch anzugewöhnen (oder beizubehalten), da Sie so auch den ``code`` ohne Weiteres an internationale Partner weitergeben können oder in Foren wie https://github.com gemeinsam Projekte bearbeiten können.\n",
    "\n",
    "# Inhalt\n",
    "* 1 Setup\n",
    "* 2 MNIST Datensatz\n",
    "    * Überblick\n",
    "    * PCA\n",
    "    * Bildkompression\n",
    "* 3 Qualität PCA Feature Extraction\n",
    "* 4 Visualisierung mit t-SNE & PCA\n",
    "* 5 Hausaufgabe\n",
    "* 6 Anhänge\n",
    "\n",
    "**Fragen und Hausaufgaben, die Sie bearbeiten sollen sind in dieses Notebook eingebettet.**"
   ]
  },
  {
   "cell_type": "markdown",
   "metadata": {},
   "source": [
    "# 1 | Setup"
   ]
  },
  {
   "cell_type": "markdown",
   "metadata": {},
   "source": [
    "Hier werden wichtige Module ``modules`` geladen und es wird überprüft, dass die nötigen Mindestanforderungen für die Softwareaktualität gegeben sind.\n",
    "\n",
    "* ``Python 3.5`` oder neuer\n",
    "* es könnte evtl. mit ``Python 2.x`` laufen, aber davon wird abgeraten\n",
    "* Scikit-Learn ≥0.20\n",
    "    * PCA https://scikit-learn.org/stable/modules/generated/sklearn.decomposition.PCA.html\n",
    "    * t-SNE https://scikit-learn.org/stable/modules/generated/sklearn.manifold.TSNE.html\n",
    "    * RFC https://scikit-learn.org/stable/modules/generated/sklearn.ensemble.RandomForestClassifier.html?highlight=randomforestclassifier#sklearn.ensemble.RandomForestClassifier\n",
    "    * softmax https://scikit-learn.org/stable/modules/generated/sklearn.linear_model.LogisticRegression.html?highlight=logisticregression#sklearn.linear_model.LogisticRegression"
   ]
  },
  {
   "cell_type": "code",
   "execution_count": null,
   "metadata": {},
   "outputs": [],
   "source": [
    "# Python ≥3.5 is required\n",
    "import sys\n",
    "assert sys.version_info >= (3, 5)\n",
    "\n",
    "# Scikit-Learn ≥0.20 is required\n",
    "import sklearn\n",
    "assert sklearn.__version__ >= \"0.20\"\n",
    "\n",
    "# Common imports\n",
    "import numpy as np\n",
    "import os\n",
    "\n",
    "# to make this notebook's output stable across runs\n",
    "np.random.seed(42)\n",
    "\n",
    "# To plot pretty figures\n",
    "%matplotlib inline\n",
    "import matplotlib as mpl\n",
    "import matplotlib.pyplot as plt\n",
    "mpl.rc('axes', labelsize=14)\n",
    "mpl.rc('xtick', labelsize=12)\n",
    "mpl.rc('ytick', labelsize=12)\n",
    "\n",
    "# Where to save the figures\n",
    "PROJECT_ROOT_DIR = \".\"\n",
    "CHAPTER_ID = \"dim_reduction\"\n",
    "IMAGES_PATH = os.path.join(PROJECT_ROOT_DIR, \"images\", CHAPTER_ID)\n",
    "os.makedirs(IMAGES_PATH, exist_ok=True)\n",
    "\n",
    "def save_fig(fig_id, tight_layout=True, fig_extension=\"png\", resolution=300):\n",
    "    path = os.path.join(IMAGES_PATH, fig_id + \".\" + fig_extension)\n",
    "    print(\"Saving figure\", fig_id)\n",
    "    if tight_layout:\n",
    "        plt.tight_layout()\n",
    "    plt.savefig(path, format=fig_extension, dpi=resolution)\n",
    "\n",
    "# Ignore useless warnings (see SciPy issue #5998)\n",
    "import warnings\n",
    "warnings.filterwarnings(action=\"ignore\", message=\"^internal gelsd\")"
   ]
  },
  {
   "cell_type": "markdown",
   "metadata": {},
   "source": [
    "# 2 | MNIST Datensatz\n",
    "\n",
    "## 2.1 | Überblick\n",
    "<font color=red>**Anmerkung für das Berufungskommittee** \n",
    "    \n",
    "In einer realen Lehrveranstaltung (die länger als 30 min dauert) würde dieser Abschnitt zuvor mit den Studierenden gemeinsam durchgeführt, um sich einen Überblick zu verschaffen. In der Probelehrveranstaltung wird dieser Teil nicht explizit durchgeführt (Konzentration auf Abschnitt 3). Sie finden eine Zusammenfassung dieses Abschnitts auf den Folien.</font>"
   ]
  },
  {
   "cell_type": "markdown",
   "metadata": {},
   "source": [
    "MNIST werden geladen, es sind 70.000 Schwarz-Weiß-Bilder mit je 784 Features."
   ]
  },
  {
   "cell_type": "code",
   "execution_count": null,
   "metadata": {},
   "outputs": [],
   "source": [
    "# load MNIST data which is a part of sklearn\n",
    "from sklearn.datasets import fetch_openml\n",
    "\n",
    "mnist = fetch_openml('mnist_784', version=1)\n",
    "mnist.target = mnist.target.astype(np.uint8)"
   ]
  },
  {
   "cell_type": "markdown",
   "metadata": {},
   "source": [
    "Aufteilen der Features ``X`` und der Labels ``y`` in Trainings- und Test-Bilder (3:1). "
   ]
  },
  {
   "cell_type": "code",
   "execution_count": null,
   "metadata": {},
   "outputs": [],
   "source": [
    "# splitting in training and test batch\n",
    "from sklearn.model_selection import train_test_split\n",
    "\n",
    "X = mnist[\"data\"]\n",
    "y = mnist[\"target\"]\n",
    "\n",
    "X_train, X_test, y_train, y_test = train_test_split(X, y)"
   ]
  },
  {
   "cell_type": "markdown",
   "metadata": {},
   "source": [
    "Form der Arrays (Features = X, Labels = y)"
   ]
  },
  {
   "cell_type": "code",
   "execution_count": null,
   "metadata": {},
   "outputs": [],
   "source": [
    "# (m x n) shape of the Feature arrays, (m) shape of the label arrays\n",
    "X.shape, y.shape, X_train.shape, y_train.shape, X_test.shape, y_test.shape"
   ]
  },
  {
   "cell_type": "code",
   "execution_count": null,
   "metadata": {},
   "outputs": [],
   "source": [
    "# Labels arrays contain integers of the digits 0 to 9 (not sorted)\n",
    "y_train"
   ]
  },
  {
   "cell_type": "markdown",
   "metadata": {},
   "source": [
    "Unten werden die ersten 100 Zeilen der Matrix $A_{m\\times n}$ dargestellt. Die vertikalen Spalten sind ein Zeichen dafür, dass die Ziffern (in der 2D Darstellung) zentriert waren."
   ]
  },
  {
   "cell_type": "code",
   "execution_count": null,
   "metadata": {},
   "outputs": [],
   "source": [
    "import matplotlib as mpl\n",
    "import matplotlib.pyplot as plt\n",
    "\n",
    "# initiate figure\n",
    "plt.figure(figsize=(13,10))\n",
    "\n",
    "# plotting\n",
    "plt.imshow(X_train[:100,:], cmap='binary')\n",
    "\n",
    "# formating\n",
    "plt.ylabel('m images')\n",
    "plt.xlabel('n features (per image)')\n",
    "#plt.axis('off')\n",
    "plt.show()"
   ]
  },
  {
   "cell_type": "markdown",
   "metadata": {},
   "source": [
    "Wir schauen uns nun ein Bild (Sample mit index ``21``) ganz genau an. Es besteht aus 784 Einträgen (Anzahl der Pixel). Da es sich um Schwarz-Weiß-Bilder handelt sind, hier nur die Helligkeiten (``0.``: weiß, ``255.``: schwarz) angegeben. \n",
    "\n",
    "Das sind die Features (784 Stück) zum Sample mit index ``21``."
   ]
  },
  {
   "cell_type": "code",
   "execution_count": null,
   "metadata": {},
   "outputs": [],
   "source": [
    "# pick a digit\n",
    "X_train[21]"
   ]
  },
  {
   "cell_type": "markdown",
   "metadata": {},
   "source": [
    "Wir wollen untersuchen, welche Ziffer sich hinter diesen Features verbirgt. Dazu werden die Features umgeordnet in 2D. \n",
    "\n",
    "Anmerkung: Das Bild muss nicht immer quadratisch sein. In diesem Datensatz ist das zufällig aber der Fall."
   ]
  },
  {
   "cell_type": "code",
   "execution_count": null,
   "metadata": {},
   "outputs": [],
   "source": [
    "import matplotlib as mpl\n",
    "import matplotlib.pyplot as plt\n",
    "\n",
    "# select a digit (here index 21)\n",
    "digit_picked = X_train[21]\n",
    "\n",
    "# reshape to 2D and plot\n",
    "digit_picked_2D = digit_picked.reshape(28, 28)\n",
    "plt.imshow(digit_picked_2D, cmap='binary')\n",
    "\n",
    "# formating\n",
    "plt.title('$n = a \\cdot b$')\n",
    "plt.ylabel('b')\n",
    "plt.xlabel('a')\n",
    "\n",
    "plt.show()"
   ]
  },
  {
   "cell_type": "markdown",
   "metadata": {},
   "source": [
    "## 2.2 | Scikit-learn PCA - Feature Extraction MNIST Datensatz\n",
    "\n",
    "<font color=red>**Anmerkung für das Berufungskommittee** \n",
    "    \n",
    "In einer realen Lehrveranstaltung (die länger als 30 min dauert) würde dieser Abschnitt zuvor mit den Studierenden gemeinsam durchgeführt, um sich einen Überblick zu verschaffen. In der Probelehrveranstaltung wird dieser Teil nicht explizit durchgeführt (Konzentration auf Abschnitt 3). Sie finden eine Zusammenfassung dieses Abschnitts auf den Folien.</font>"
   ]
  },
  {
   "cell_type": "markdown",
   "metadata": {},
   "source": [
    "Beispielsweise kann man mit Python Packages wie ``sklearn`` PCA sehr bequem in wenigen Zeilen durchführen. Zuerst schauen wir uns allerdings die Theorie hinter der PCA an (siehe Folien)."
   ]
  },
  {
   "cell_type": "code",
   "execution_count": null,
   "metadata": {},
   "outputs": [],
   "source": [
    "from sklearn.decomposition import PCA\n",
    "\n",
    "pca = PCA(svd_solver='full')\n",
    "pca.fit(X_train)"
   ]
  },
  {
   "cell_type": "markdown",
   "metadata": {},
   "source": [
    "Nachdem wir die Theorie verstanden haben, schauen wir uns die Ausgabe von ``pca`` genauer an."
   ]
  },
  {
   "cell_type": "code",
   "execution_count": null,
   "metadata": {},
   "outputs": [],
   "source": [
    "# get cumulative variance of the PCs\n",
    "cum_variance_of_PCs = np.cumsum(pca.explained_variance_ratio_)\n",
    "\n",
    "# extract all PCs necessary to reach 95% variance of the original sample\n",
    "d = np.argmax(cum_variance_of_PCs >= 0.95) + 1\n",
    "print('Feature Extraction:', d)"
   ]
  },
  {
   "cell_type": "markdown",
   "metadata": {},
   "source": [
    "Die oben angezeigte Anzahl der Features beinhaltet nur die notwendigen PCs mit mind. 95% Varianz der ursprünglichen Daten. Unten ist die kumulative Verteilung in Abhängigkeit der Features gezeigt."
   ]
  },
  {
   "cell_type": "code",
   "execution_count": null,
   "metadata": {},
   "outputs": [],
   "source": [
    "import matplotlib as mpl\n",
    "import matplotlib.pyplot as plt\n",
    "\n",
    "# setup figure\n",
    "plt.figure(figsize=(6,4))\n",
    "\n",
    "# plot\n",
    "plt.plot(cum_variance_of_PCs, color=mpl.cm.get_cmap('plasma')(0.8), linewidth=3)\n",
    "#plt.axis([0, 800, 0, 1.01])\n",
    "\n",
    "# formating\n",
    "plt.xlabel(r\"Dimension n$_{neu}$\")\n",
    "plt.ylabel(\"Kumulative Varianz\")\n",
    "plt.plot(d, 0.95, \"ko\")\n",
    "plt.annotate(\"Knie\", xy=(65, 0.85), xytext=(40, 0.7),\n",
    "             arrowprops=dict(arrowstyle=\"->\"), fontsize=16)\n",
    "plt.grid(True)\n",
    "save_fig(\"BV_cumsum.png\")\n",
    "plt.show()"
   ]
  },
  {
   "cell_type": "markdown",
   "metadata": {},
   "source": [
    "<font color=red>**Aufgabe:** Ermitteln Sie die Varianz bei 100 Features und überlegen Sie, ob es noch vertretbar ist, die Features weiter zu reduzieren?</font>"
   ]
  },
  {
   "cell_type": "markdown",
   "metadata": {},
   "source": [
    "Es gibt eine Abkürzung in ``sklearn`` um die zu erreichende Varianz direkt einzugeben:"
   ]
  },
  {
   "cell_type": "code",
   "execution_count": null,
   "metadata": {},
   "outputs": [],
   "source": [
    "from sklearn.decomposition import PCA\n",
    "\n",
    "pca = PCA(n_components=0.95, svd_solver='full')\n",
    "X_reduced = pca.fit_transform(X_train)"
   ]
  },
  {
   "cell_type": "markdown",
   "metadata": {},
   "source": [
    "Nun überprüfen wir, ob es funktioniert hat. Sind es wieder 154?"
   ]
  },
  {
   "cell_type": "code",
   "execution_count": null,
   "metadata": {},
   "outputs": [],
   "source": [
    "# new features (n_new)\n",
    "pca.n_components_"
   ]
  },
  {
   "cell_type": "markdown",
   "metadata": {},
   "source": [
    "Ist es wirklich mind. 95% Varianz?"
   ]
  },
  {
   "cell_type": "code",
   "execution_count": null,
   "metadata": {},
   "outputs": [],
   "source": [
    "# variance sum of used PCs to reach at least 0.95\n",
    "np.sum(pca.explained_variance_ratio_)"
   ]
  },
  {
   "cell_type": "markdown",
   "metadata": {},
   "source": [
    "## 2.3 | Bildkompression (Bonus)\n",
    "\n",
    "<font color=red>**Anmerkung für das Berufungskommittee** \n",
    "    \n",
    "In einer realen Lehrveranstaltung (die länger als 30 min dauert) würde dieser Abschnitt mit den Studierenden gemeinsam durchgeführt, um sich einen Überblick zu verschaffen. In der Probelehrveranstaltung wird dieser Teil nicht explizit im Notebook durchgeführt. Sie finden eine Zusammenfassung dieses Abschnitts auf den Folien.</font>"
   ]
  },
  {
   "cell_type": "markdown",
   "metadata": {},
   "source": [
    "Es ist möglich, die PCA umzudrehen (bei geringen Verlusten). Somit kann man Bilder komprimieren. Es wird dafür die \"Inverse\" der Matrix berechnet (siehe Skript). In ``sklearn`` funktioniert es so:"
   ]
  },
  {
   "cell_type": "code",
   "execution_count": null,
   "metadata": {},
   "outputs": [],
   "source": [
    "pca = PCA(n_components = 154, svd_solver='full')\n",
    "X_reduced = pca.fit_transform(X_train)\n",
    "X_recovered = pca.inverse_transform(X_reduced)"
   ]
  },
  {
   "cell_type": "markdown",
   "metadata": {},
   "source": [
    "Was hier passiert ist schauen wir uns in dem nächsten Diagramm an (dort gibt es 3 ``subplots``)."
   ]
  },
  {
   "cell_type": "code",
   "execution_count": null,
   "metadata": {},
   "outputs": [],
   "source": [
    "f = plt.figure(figsize=(13,5))\n",
    "\n",
    "# plot original with index 21\n",
    "f.add_subplot(131)\n",
    "plt.title(r'Original')\n",
    "plt.imshow(X_train[21].reshape(28,28), cmap='binary')\n",
    "plt.colorbar(orientation='horizontal')\n",
    "\n",
    "# plot 2D visualization of PCA reduced \"image\" with only 154 features\n",
    "f.add_subplot(132)\n",
    "plt.title('2D Visualisierung \"Feature in Hyperebene\"')\n",
    "plt.imshow(X_reduced[21].reshape(11,14), cmap='plasma')\n",
    "plt.colorbar(orientation='horizontal')\n",
    "\n",
    "# plot compressed image\n",
    "f.add_subplot(133)\n",
    "plt.title(r'Komprimierung ($\\sigma^2>0.95$)')\n",
    "plt.imshow(X_recovered[21].reshape(28,28), cmap='binary')\n",
    "plt.colorbar(orientation='horizontal')\n",
    "save_fig(\"BV_compress.png\")"
   ]
  },
  {
   "cell_type": "markdown",
   "metadata": {},
   "source": [
    "* Links: Originales Bild zu Index 21 (28x28) entspricht 784 Pixel (Features)\n",
    "* Mitte: PCA extrahierte Features entspricht 154 Pixel (ist nicht mehr quadratisch!!!) In der 2D Visualisierung sieht man, dass man keine Ziffer mehr erkennen kann. Wir befinden uns jetzt auf der Hyperebene.\n",
    "* Rechts: Komprimiertes Bild mit erhaltener Varianz von mind. 95% (Beachten Sie die negativen Werte.)\n",
    "\n",
    "Der unten angegebene Code (Geron 2019) gibt mehrere Beispielziffern aus:"
   ]
  },
  {
   "cell_type": "code",
   "execution_count": null,
   "metadata": {},
   "outputs": [],
   "source": [
    "def plot_digits(instances, images_per_row=5, **options):\n",
    "    size = 28\n",
    "    images_per_row = min(len(instances), images_per_row)\n",
    "    images = [instance.reshape(size,size) for instance in instances]\n",
    "    n_rows = (len(instances) - 1) // images_per_row + 1\n",
    "    row_images = []\n",
    "    n_empty = n_rows * images_per_row - len(instances)\n",
    "    images.append(np.zeros((size, size * n_empty)))\n",
    "    for row in range(n_rows):\n",
    "        rimages = images[row * images_per_row : (row + 1) * images_per_row]\n",
    "        row_images.append(np.concatenate(rimages, axis=1))\n",
    "    image = np.concatenate(row_images, axis=0)\n",
    "    plt.imshow(image, cmap = mpl.cm.binary, **options)\n",
    "    plt.axis(\"off\")\n",
    "\n",
    "plt.figure(figsize=(7, 4))\n",
    "plt.subplot(121)\n",
    "plot_digits(X_train[::2100])\n",
    "plt.title(\"Original\", fontsize=16)\n",
    "plt.subplot(122)\n",
    "plot_digits(X_recovered[::2100])\n",
    "plt.title(\"Compressed\", fontsize=16)\n",
    "\n",
    "save_fig(\"mnist_compression_plot\")"
   ]
  },
  {
   "cell_type": "markdown",
   "metadata": {},
   "source": [
    " "
   ]
  },
  {
   "cell_type": "markdown",
   "metadata": {},
   "source": [
    "# 3 | Qualität PCA Feature Extraction\n",
    "\n",
    "<font color=red>**Anmerkung für das Berufungskommittee** \n",
    "    \n",
    "Dieser Abschnitt wird exemplarisch (für die anderen Abschnitte) live mit den Studierenden durchgeführt. Die Studierenden haben das gleiche Notebook zur Hand, und können es selbst zeitgleich ausführen. </font>"
   ]
  },
  {
   "cell_type": "markdown",
   "metadata": {},
   "source": [
    "Wir benutzen den bereits geladenen MNIST Datensatz (siehe Abschnitt 2) und teilen ihn in Training- und Testset auf (6:1)."
   ]
  },
  {
   "cell_type": "raw",
   "metadata": {},
   "source": [
    "# load MNIST data which is a part of sklearn\n",
    "from sklearn.datasets import fetch_openml\n",
    "\n",
    "mnist = fetch_openml('mnist_784', version=1)\n",
    "mnist.target = mnist.target.astype(np.uint8)"
   ]
  },
  {
   "cell_type": "code",
   "execution_count": null,
   "metadata": {},
   "outputs": [],
   "source": [
    "X_train = mnist['data'][:60000]\n",
    "y_train = mnist['target'][:60000]\n",
    "\n",
    "X_test = mnist['data'][60000:]\n",
    "y_test = mnist['target'][60000:]"
   ]
  },
  {
   "cell_type": "code",
   "execution_count": null,
   "metadata": {},
   "outputs": [],
   "source": [
    "X_train.shape"
   ]
  },
  {
   "cell_type": "markdown",
   "metadata": {},
   "source": [
    "Wir nutzen ``sklearn`` um am MNIST Datensatz Feature Extraction mit der PCA Methode durchzuführen. Wir stellen eine zu erreichende Mindestvarianz von 95% ein.\n",
    "\n",
    "**Anmerkung:** Falls Sie zuvor Abschnitt 2 durchgeführt haben, muss mit den neuen ``X_train`` auch die PCA erneut durchgeführt werden."
   ]
  },
  {
   "cell_type": "code",
   "execution_count": null,
   "metadata": {},
   "outputs": [],
   "source": [
    "from sklearn.decomposition import PCA\n",
    "\n",
    "pca = PCA(n_components=0.95, svd_solver='full')\n",
    "X_train_reduced = pca.fit_transform(X_train)"
   ]
  },
  {
   "cell_type": "markdown",
   "metadata": {},
   "source": [
    "\n",
    "\n",
    "Im Folgenden werden wir 2 verschiedene Classifier (RFC & softmax) mit den Trainingsset trainieren. Dabei messen wir Folgendes:\n",
    "\n",
    "* Trainieren mit dem originalen Datensatz (Matrix $A$)\n",
    "    * Zeit\n",
    "    * Genauigkeit\n",
    "    \n",
    "* Trainieren mit dem feature-extracted Datensatz (Matrix $A_E$)\n",
    "    * Zeit\n",
    "    * Genauigkeit"
   ]
  },
  {
   "cell_type": "code",
   "execution_count": null,
   "metadata": {},
   "outputs": [],
   "source": [
    "import time"
   ]
  },
  {
   "cell_type": "markdown",
   "metadata": {},
   "source": [
    "## 3.1 | Stoppuhr für RandomForestClassifier (RFC)\n",
    "### 3.1.1 | RFC ohne PCA"
   ]
  },
  {
   "cell_type": "markdown",
   "metadata": {},
   "source": [
    "<font color=red>**Aufgabe:** Stoppen Sie die Zeit, die ein RandomForestClassifier braucht um Ihr Trainingset zu bearbeiten. Mit welcher Genauigkeit ist zu rechnen?</font>"
   ]
  },
  {
   "cell_type": "code",
   "execution_count": null,
   "metadata": {},
   "outputs": [],
   "source": [
    "from sklearn.ensemble import RandomForestClassifier\n",
    "rnd_clf = RandomForestClassifier(n_estimators=20, random_state=42)\n",
    "\n",
    "# start clock\n",
    "t0 = time.time()\n",
    "rnd_clf.fit(X_train, y_train)\n",
    "t1 = time.time()\n",
    "\n",
    "print('Stoppuhr {:.2f}s'.format(t1 - t0))"
   ]
  },
  {
   "cell_type": "code",
   "execution_count": null,
   "metadata": {},
   "outputs": [],
   "source": [
    "from sklearn.metrics import accuracy_score\n",
    "y_pred = rnd_clf.predict(X_test)\n",
    "\n",
    "print('Genauigkeit {:.2f}'.format(accuracy_score(y_test, y_pred)))"
   ]
  },
  {
   "cell_type": "markdown",
   "metadata": {},
   "source": [
    "Um vergleichen zu können, brauchen wir auch noch das Training mit $A_E$ (PCA Variante)."
   ]
  },
  {
   "cell_type": "markdown",
   "metadata": {},
   "source": [
    "### 3.1.2 | RFC mit PCA\n",
    "\n",
    "<font color=red>**Aufgabe:** Wiederholen Sie die letzte Aufgabe, nutzen Sie aber diesesmal ``X_train_reduced``?</font>"
   ]
  },
  {
   "cell_type": "code",
   "execution_count": null,
   "metadata": {},
   "outputs": [],
   "source": [
    "from sklearn.ensemble import RandomForestClassifier\n",
    "rnd_clf2 = RandomForestClassifier(n_estimators=20, random_state=42)\n",
    "\n",
    "# start clock\n",
    "t0 = time.time()\n",
    "rnd_clf2.fit(X_train_reduced, y_train)\n",
    "t1 = time.time()\n",
    "\n",
    "print('Stoppuhr {:.2f}s'.format(t1 - t0))"
   ]
  },
  {
   "cell_type": "markdown",
   "metadata": {},
   "source": [
    "<font color=red> **Oh!** </font>Das hat mehr als doppelt so lange gedauert. Überlegen Sie warum?\n",
    "\n",
    "Bedenken Sie, dass Feature Extraction nicht immer zur Beschleunigung führt, da die Performace eng mit folgenden Faktoren zusammenhängt:\n",
    "\n",
    "* Art des Datensatzes (Mannigfaltigkeit?)\n",
    "* Art des Feature Extraction Modells (linear?, nicht linear?)\n",
    "* Art des Trainingalgorithmus\n",
    "\n",
    "Wie sieht es mit der Genauigkeit aus?"
   ]
  },
  {
   "cell_type": "code",
   "execution_count": null,
   "metadata": {},
   "outputs": [],
   "source": [
    "X_test_reduced = pca.transform(X_test)\n",
    "y_pred = rnd_clf2.predict(X_test_reduced)\n",
    "\n",
    "print('Genauigkeit {:.2f}'.format(accuracy_score(y_test, y_pred)))"
   ]
  },
  {
   "cell_type": "markdown",
   "metadata": {},
   "source": [
    "**Fazit: Kombination von PCA und RFC führen bei diesem Datensatz (MNIST) zu einer Verschlechterung in Zeit und Genauigkeit.**"
   ]
  },
  {
   "cell_type": "markdown",
   "metadata": {},
   "source": [
    "## 3.2 | Stoppuhr für softmax\n",
    "\n",
    "<font color=red> **Aufgabe:** Wir wiederholen die letzten zwei Aufgaben nun für ``LogisticRegression`` (softmax). Die Unterschiede zwischen ``softmax`` und ``RFC`` **interessieren uns momentan nicht**. Dazu müssten wir auch realistischere Parameter wählen, was dann aber sehr viel länger dauern würde. \n",
    "    \n",
    "**Uns interessiert** momentan nur der Effekt, den wir erhalten, wenn wir PCA zusätzlich anwenden.</font>\n",
    "### 3.2.1 | softmax ohne PCA"
   ]
  },
  {
   "cell_type": "code",
   "execution_count": null,
   "metadata": {},
   "outputs": [],
   "source": [
    "from sklearn.linear_model import LogisticRegression\n",
    "log_clf = LogisticRegression(multi_class=\"multinomial\", solver=\"lbfgs\", random_state=42)#, max_iter=100)\n",
    "\n",
    "t0 = time.time()\n",
    "log_clf.fit(X_train, y_train)\n",
    "t1 = time.time()\n",
    "\n",
    "print('Stoppuhr {:.2f}s'.format(t1 - t0))"
   ]
  },
  {
   "cell_type": "code",
   "execution_count": null,
   "metadata": {},
   "outputs": [],
   "source": [
    "y_pred = log_clf.predict(X_test)\n",
    "print('Genauigkeit {:.2f}'.format(accuracy_score(y_test, y_pred)))"
   ]
  },
  {
   "cell_type": "markdown",
   "metadata": {},
   "source": [
    "### 3.2.2 | softmax mit PCA "
   ]
  },
  {
   "cell_type": "code",
   "execution_count": null,
   "metadata": {},
   "outputs": [],
   "source": [
    "log_clf2 = LogisticRegression(multi_class=\"multinomial\", solver=\"lbfgs\", random_state=42)#, max_iter=300)\n",
    "t0 = time.time()\n",
    "log_clf2.fit(X_train_reduced, y_train)\n",
    "t1 = time.time()\n",
    "\n",
    "print('Stoppuhr {:.2f}s'.format(t1 - t0))"
   ]
  },
  {
   "cell_type": "markdown",
   "metadata": {},
   "source": [
    "Viel weniger Rechenzeit!"
   ]
  },
  {
   "cell_type": "code",
   "execution_count": null,
   "metadata": {},
   "outputs": [],
   "source": [
    "y_pred = log_clf2.predict(X_test_reduced)\n",
    "print('Genauigkeit {:.2f}'.format(accuracy_score(y_test, y_pred)))"
   ]
  },
  {
   "cell_type": "markdown",
   "metadata": {},
   "source": [
    "Sehr kleine Abweichung in der Genauigkeit."
   ]
  },
  {
   "cell_type": "markdown",
   "metadata": {},
   "source": [
    "**Fazit: PCA kann bei tolerierbaren Verlusten die Rechenzeit verkürzen - aber nicht immer**\n",
    "\n",
    "Zurück zu den Folien, bevor wir uns Abschnitt 4 ansehen können."
   ]
  },
  {
   "cell_type": "markdown",
   "metadata": {},
   "source": [
    " "
   ]
  },
  {
   "cell_type": "markdown",
   "metadata": {},
   "source": [
    "# 4 | Visualisierung des MNIST Datensatz (d=2)\n",
    "\n",
    "<font color=red>**Anmerkung für das Berufungskommittee** \n",
    "    \n",
    "In einer realen Lehrveranstaltung (die länger als 30 min dauert) würde dieser Abschnitt mit den Studierenden gemeinsam durchgeführt und diskutiert. In der Probelehrveranstaltung wird dieser Teil nicht explizit durchgeführt (Konzentration auf Abschnitt 3). Sie finden eine Zusammenfassung dieses Abschnitts auf den Folien.</font>"
   ]
  },
  {
   "cell_type": "markdown",
   "metadata": {},
   "source": [
    "Im Folgenden reduzieren wir die Features auf nur 2 Stück. Dann ist $d=2$, was sehr hilfreich bei der Visualisierung ist. Das kann aber auch schiefgehen, wie wir gleich sehen werden.\n",
    "\n",
    "#### Lade Datensatz"
   ]
  },
  {
   "cell_type": "code",
   "execution_count": null,
   "metadata": {},
   "outputs": [],
   "source": [
    "from sklearn.datasets import fetch_openml\n",
    "\n",
    "mnist = fetch_openml('mnist_784', version=1)\n",
    "mnist.target = mnist.target.astype(np.uint8)"
   ]
  },
  {
   "cell_type": "markdown",
   "metadata": {},
   "source": [
    "#### Wähle nur 10.000 Permutationen aus \n",
    "(sonst dauert es sehr sehr lang)"
   ]
  },
  {
   "cell_type": "code",
   "execution_count": null,
   "metadata": {},
   "outputs": [],
   "source": [
    "np.random.seed(42)\n",
    "\n",
    "m = 10000\n",
    "idx = np.random.permutation(60000)[:m]\n",
    "\n",
    "X = mnist['data'][idx]\n",
    "y = mnist['target'][idx]"
   ]
  },
  {
   "cell_type": "markdown",
   "metadata": {},
   "source": [
    "<font color=red> **Aufgabe:** Wir nutzen nun t-SNE aus den MNIST Datensatz um nur 2 Features zu extrahieren. Dies ist nützlich u. a. bei der Visualisierung und der Klassifizierung.</font>\n",
    "\n",
    "Wir werden auch wieder die Zeit stoppen."
   ]
  },
  {
   "cell_type": "markdown",
   "metadata": {},
   "source": [
    "## PCA : Stoppuhr"
   ]
  },
  {
   "cell_type": "code",
   "execution_count": null,
   "metadata": {},
   "outputs": [],
   "source": [
    "import time\n",
    "from sklearn.decomposition import PCA\n",
    "\n",
    "t0 = time.time()\n",
    "X_pca_reduced = PCA(n_components=2, random_state=42, svd_solver='full').fit_transform(X)\n",
    "t1 = time.time()\n",
    "print('PCA Stoppuhr {:.1f}s.'.format(t1 - t0))"
   ]
  },
  {
   "cell_type": "markdown",
   "metadata": {},
   "source": [
    "Wieder sehr schnell! \n",
    "\n",
    "Nun schauen wir uns die 2D Verteilung an. "
   ]
  },
  {
   "cell_type": "code",
   "execution_count": null,
   "metadata": {},
   "outputs": [],
   "source": [
    "# default scatter plot\n",
    "plt.figure(figsize=(13,10))\n",
    "plt.scatter(X_pca_reduced[:, 0], X_pca_reduced[:, 1], c=y, cmap=\"plasma\")\n",
    "plt.axis('off')\n",
    "plt.colorbar()\n",
    "plt.show()"
   ]
  },
  {
   "cell_type": "markdown",
   "metadata": {},
   "source": [
    "Wir sehen, dass sehr viele Punkt übereinander liegen. \n",
    "\n",
    "Wir können den Plot mit der unten angegebenen Routine schöner machen, ..."
   ]
  },
  {
   "cell_type": "code",
   "execution_count": null,
   "metadata": {},
   "outputs": [],
   "source": [
    "from sklearn.preprocessing import MinMaxScaler\n",
    "from matplotlib.offsetbox import AnnotationBbox, OffsetImage\n",
    "\n",
    "def plot_digits(X, y, min_distance=0.05, images=None, numbers=None, figsize=(13, 10), cmap='plasma'):\n",
    "    \n",
    "    # scale the input features from 0 to 1\n",
    "    X_normalized = MinMaxScaler().fit_transform(X)\n",
    "    neighbors = np.array([[10., 10.]])\n",
    "    \n",
    "    # setting up figure and colormap\n",
    "    plt.figure(figsize=figsize)\n",
    "    mymap = mpl.cm.get_cmap(cmap)\n",
    "    cmap = mpl.colors.ListedColormap([mymap(f/10.) for f in range(10)])\n",
    "    \n",
    "    # loop over all 10 digits 0 to 9\n",
    "    digits = np.unique(y)\n",
    "    for digit in digits:\n",
    "        if numbers is not None:\n",
    "            scatter = plt.scatter(X_normalized[y == digit, 0], X_normalized[y == digit, 1], \n",
    "                                  marker='$' + str(digit) + '$', c=y[y==digit], s=numbers, cmap=cmap, vmin=-0.5, vmax=9.5)\n",
    "        else:\n",
    "            scatter = plt.scatter(X_normalized[y == digit, 0], X_normalized[y == digit, 1], \n",
    "                                  c=y[y==digit], vmin=-0.5, vmax=9.5, cmap=cmap)\n",
    "    \n",
    "    # setting up colorbar and remove axis\n",
    "    cb = plt.colorbar(scatter, ticks=np.linspace(0,9,10), pad=0., orientation='horizontal')\n",
    "    cb.ax.tick_params(labelsize=24)\n",
    "    plt.axis(\"off\")\n",
    "    ax = plt.gcf().gca()  # get current axes in current figure\n",
    "    \n",
    "    # calculation of the distances and plotting of the text or images\n",
    "    if numbers is None:\n",
    "        for index, image_coord in enumerate(X_normalized):\n",
    "            closest_distance = np.linalg.norm(np.array(neighbors) - image_coord, axis=1).min()\n",
    "            if closest_distance > min_distance:\n",
    "                neighbors = np.r_[neighbors, [image_coord]]\n",
    "                \n",
    "                if images is None:\n",
    "                    plt.text(image_coord[0], image_coord[1], str(int(y[index])),color=cmap(y[index] / 9), fontdict={\"weight\": \"bold\", \"size\": 16})\n",
    "                else:\n",
    "                    image = images[index].reshape(28, 28)\n",
    "                    imagebox = AnnotationBbox(OffsetImage(image, cmap=\"binary\"), image_coord)\n",
    "\n",
    "                    ax.add_artist(imagebox)"
   ]
  },
  {
   "cell_type": "code",
   "execution_count": null,
   "metadata": {},
   "outputs": [],
   "source": [
    "plot_digits(X_pca_reduced, y, images=X, figsize=(30, 15))"
   ]
  },
  {
   "cell_type": "markdown",
   "metadata": {},
   "source": [
    "... allerdings liefert PCA alleine für diesen Datensatz keine brauchbare Visualisierung. Wir sehen zwar ein paar Cluster, aber es ist doch eine zu große Überlagerung.\n",
    "\n",
    "Der Grund dafür ist, das PCA sehr gut funktioniert um überflüssige Dimensionenen (Features) zu reduzieren. Gibt es aber keine überflüssigen Dimensionen (wie bspw. bei einer vorliegenden Mannigfaltigkeit), wird zuviel reduziert. Das ist bei $d=2$ sehr gut zu erkennen.\n",
    "\n",
    "Es ist nun Zeit, das wir eine Mannigfaltigkeitsmethode testen (t-SNE, Theorie in der nächsten Stunde)."
   ]
  },
  {
   "cell_type": "markdown",
   "metadata": {},
   "source": [
    "## t-SNE : Stoppuhr"
   ]
  },
  {
   "cell_type": "code",
   "execution_count": null,
   "metadata": {},
   "outputs": [],
   "source": [
    "from sklearn.manifold import TSNE\n",
    "\n",
    "t0 = time.time()\n",
    "X_tsne_reduced = TSNE(n_components=2, random_state=42).fit_transform(X)\n",
    "t1 = time.time()\n",
    "print('t-SNE Stoppuhr {:.1f}s.'.format(t1 - t0))"
   ]
  },
  {
   "cell_type": "markdown",
   "metadata": {},
   "source": [
    "Im Vergleich zur PCA dauert t-SNE sehr lange. Dafür bekommen wir auch ein schöneres Ergebnis."
   ]
  },
  {
   "cell_type": "code",
   "execution_count": null,
   "metadata": {},
   "outputs": [],
   "source": [
    "# only numbers\n",
    "plot_digits(X_tsne_reduced, y, numbers=150, images=None, figsize=(30, 15))"
   ]
  },
  {
   "cell_type": "markdown",
   "metadata": {},
   "source": [
    "Im Vergleich zur PCA alleine (oben) eine bessere Visualisierung. Wir können sehen, dass die Ziffern 0 und 6 separiert sind. Allerdings sieht man auch, dass beispielsweise 4 und 9 und manchmal 3 und 5 schwer auseinander zu halten sind. \n",
    "\n",
    "Unten sehen Sie noch andere Darstellungsvarianten."
   ]
  },
  {
   "cell_type": "code",
   "execution_count": null,
   "metadata": {},
   "outputs": [],
   "source": [
    "# only images\n",
    "plot_digits(X_tsne_reduced, y, numbers=None, images=X, figsize=(30, 15))\n",
    "# few numbers\n",
    "plot_digits(X_tsne_reduced, y, numbers=None, images=None, figsize=(30, 15))"
   ]
  },
  {
   "cell_type": "markdown",
   "metadata": {},
   "source": [
    "## PCA & t-SNE : Stoppuhr\n",
    "\n",
    "Wenn wir PCA und t-SNE kombinieren, kann das in einer Pipeline geschehen."
   ]
  },
  {
   "cell_type": "code",
   "execution_count": null,
   "metadata": {},
   "outputs": [],
   "source": [
    "from sklearn.manifold import TSNE\n",
    "from sklearn.pipeline import Pipeline\n",
    "\n",
    "\n",
    "pca_tsne = Pipeline([\n",
    "    (\"pca\", PCA(n_components=0.95, random_state=42, svd_solver='full')),\n",
    "    (\"tsne\", TSNE(n_components=2, random_state=42)),\n",
    "])\n",
    "\n",
    "t0 = time.time()\n",
    "X_pca_tsne_reduced = pca_tsne.fit_transform(X)\n",
    "t1 = time.time()\n",
    "\n",
    "print('PCA + t-SNE Stoppuhr {:.1f}s.'.format(t1 - t0))"
   ]
  },
  {
   "cell_type": "markdown",
   "metadata": {},
   "source": [
    "Die Zeitersparnis liegt bei ca. 1/3 bei ähnlichem Ergebnis."
   ]
  },
  {
   "cell_type": "code",
   "execution_count": null,
   "metadata": {},
   "outputs": [],
   "source": [
    "# only numbers\n",
    "plot_digits(X_pca_tsne_reduced, y, numbers=150, images=None, figsize=(30, 15))\n",
    "# few numbers\n",
    "plot_digits(X_pca_tsne_reduced, y, numbers=None, images=None, figsize=(30, 15))\n",
    "# only images\n",
    "plot_digits(X_pca_tsne_reduced, y, numbers=None, images=X, figsize=(30, 15))"
   ]
  },
  {
   "cell_type": "markdown",
   "metadata": {},
   "source": [
    "## 5 | Hausaufgabe\n",
    "\n",
    "* 1) Die Cluster von 3en und 5en liegen sehr nahe beisammen. Plotten Sie 2en, 3en und 5en in ein separates Diagramm. \n",
    "* 2) Überprüfen Sie, ob die Visualisierung sich verbessert, wenn Sie die t-SNE nur für diese drei Ziffern laufen lassen.\n",
    "* 3) Untersuchen Sie auch die unterschiedlichen Darstellungen anhand dieses Problems. Was folgern Sie?\n",
    "* 4) Untersuchen Sie, ob PCA alleine für die Ziffern 0, 1, 4 besser funktioniert. Diskutieren Sie das Ergebnis.\n",
    "\n",
    "\n"
   ]
  },
  {
   "cell_type": "code",
   "execution_count": null,
   "metadata": {},
   "outputs": [],
   "source": [
    "# put your code here\n",
    "\n",
    "\n"
   ]
  },
  {
   "cell_type": "markdown",
   "metadata": {},
   "source": [
    "## 6 | Anhang: Technik vs. Methoden"
   ]
  },
  {
   "cell_type": "markdown",
   "metadata": {},
   "source": [
    "Zeitersparnis bei anderen Techniken - ein Zeitmessbeispiel. Allerdings liefert nur die t-SNE eine zufiedenstellende Visualisierung. Mehr dazu in den folgenden Veranstaltungen."
   ]
  },
  {
   "cell_type": "code",
   "execution_count": null,
   "metadata": {},
   "outputs": [],
   "source": [
    "import matplotlib.pyplot as plt\n",
    "\n",
    "technique_with_PCA = ['LLE', 'MDS2000', 'tSNE']\n",
    "time_technique_PCA = [38.7, 129.2, 103.3]\n",
    "\n",
    "technique = ['PCA', 'LLE', 'MDS2000','LDA', 'tSNE']\n",
    "time_technique = [0.2, 116.5, 132.9, 2.0, 180.1]\n",
    "\n",
    "plt.plot(technique, time_technique, 'or')\n",
    "plt.plot(technique_with_PCA, time_technique_PCA, 'ok')\n",
    "\n",
    "plt.legend(['Methode', 'Methode + PCA'])\n",
    "\n",
    "plt.xlabel('Methode')\n",
    "plt.ylabel('Zeit (s)')"
   ]
  },
  {
   "cell_type": "markdown",
   "metadata": {},
   "source": [
    "MDS wurde auf 2000 samples im Datensatz reduziert. Sonst würde es sehr sehr lange dauern (viel länger als t-SNE)."
   ]
  },
  {
   "cell_type": "code",
   "execution_count": null,
   "metadata": {},
   "outputs": [],
   "source": []
  }
 ],
 "metadata": {
  "kernelspec": {
   "display_name": "Python 3",
   "language": "python",
   "name": "python3"
  },
  "language_info": {
   "codemirror_mode": {
    "name": "ipython",
    "version": 3
   },
   "file_extension": ".py",
   "mimetype": "text/x-python",
   "name": "python",
   "nbconvert_exporter": "python",
   "pygments_lexer": "ipython3",
   "version": "3.8.3"
  }
 },
 "nbformat": 4,
 "nbformat_minor": 4
}
